{
 "cells": [
  {
   "cell_type": "code",
   "execution_count": 64,
   "metadata": {},
   "outputs": [],
   "source": [
    "import numpy as np\n",
    "import pandas as pd"
   ]
  },
  {
   "cell_type": "code",
   "execution_count": 65,
   "metadata": {},
   "outputs": [
    {
     "data": {
      "text/html": [
       "<div>\n",
       "<style scoped>\n",
       "    .dataframe tbody tr th:only-of-type {\n",
       "        vertical-align: middle;\n",
       "    }\n",
       "\n",
       "    .dataframe tbody tr th {\n",
       "        vertical-align: top;\n",
       "    }\n",
       "\n",
       "    .dataframe thead th {\n",
       "        text-align: right;\n",
       "    }\n",
       "</style>\n",
       "<table border=\"1\" class=\"dataframe\">\n",
       "  <thead>\n",
       "    <tr style=\"text-align: right;\">\n",
       "      <th></th>\n",
       "      <th>0</th>\n",
       "    </tr>\n",
       "  </thead>\n",
       "  <tbody>\n",
       "    <tr>\n",
       "      <th>Dishawasher</th>\n",
       "      <td>399</td>\n",
       "    </tr>\n",
       "    <tr>\n",
       "      <th>Coffee maker</th>\n",
       "      <td>129</td>\n",
       "    </tr>\n",
       "    <tr>\n",
       "      <th>Laptop</th>\n",
       "      <td>899</td>\n",
       "    </tr>\n",
       "    <tr>\n",
       "      <th>Smartphone</th>\n",
       "      <td>499</td>\n",
       "    </tr>\n",
       "  </tbody>\n",
       "</table>\n",
       "</div>"
      ],
      "text/plain": [
       "                0\n",
       "Dishawasher   399\n",
       "Coffee maker  129\n",
       "Laptop        899\n",
       "Smartphone    499"
      ]
     },
     "execution_count": 65,
     "metadata": {},
     "output_type": "execute_result"
    }
   ],
   "source": [
    "labels = [\"Dishawasher\", \"Coffee maker\", \"Laptop\", \"Smartphone\"]\n",
    "prices = [399, 129, 899, 499]\n",
    "# two lists into a panda series\n",
    "\n",
    "ser1 = pd.Series(prices, labels)\n",
    "ser1.to_frame()\n",
    "#to_frame() to convert a series into DataFrame -> prettier printing in Jupyter"
   ]
  },
  {
   "cell_type": "code",
   "execution_count": 66,
   "metadata": {},
   "outputs": [
    {
     "data": {
      "text/html": [
       "<div>\n",
       "<style scoped>\n",
       "    .dataframe tbody tr th:only-of-type {\n",
       "        vertical-align: middle;\n",
       "    }\n",
       "\n",
       "    .dataframe tbody tr th {\n",
       "        vertical-align: top;\n",
       "    }\n",
       "\n",
       "    .dataframe thead th {\n",
       "        text-align: right;\n",
       "    }\n",
       "</style>\n",
       "<table border=\"1\" class=\"dataframe\">\n",
       "  <thead>\n",
       "    <tr style=\"text-align: right;\">\n",
       "      <th></th>\n",
       "      <th>0</th>\n",
       "    </tr>\n",
       "  </thead>\n",
       "  <tbody>\n",
       "    <tr>\n",
       "      <th>Denmark</th>\n",
       "      <td>NaN</td>\n",
       "    </tr>\n",
       "    <tr>\n",
       "      <th>Finland</th>\n",
       "      <td>2.0</td>\n",
       "    </tr>\n",
       "    <tr>\n",
       "      <th>Norway</th>\n",
       "      <td>NaN</td>\n",
       "    </tr>\n",
       "    <tr>\n",
       "      <th>Sweden</th>\n",
       "      <td>4.0</td>\n",
       "    </tr>\n",
       "  </tbody>\n",
       "</table>\n",
       "</div>"
      ],
      "text/plain": [
       "           0\n",
       "Denmark  NaN\n",
       "Finland  2.0\n",
       "Norway   NaN\n",
       "Sweden   4.0"
      ]
     },
     "execution_count": 66,
     "metadata": {},
     "output_type": "execute_result"
    }
   ],
   "source": [
    "# only commmon values are added together, the rest will show as NaN -> Not a Number\n",
    "ser1 = pd.Series([1, 2, 3], ['Finland', 'Sweden', 'Norway'])\n",
    "ser2 = pd.Series([1, 2, 4], ['Finland', 'Sweden', 'Denmark'])\n",
    "\n",
    "# the resulting series will be sorted alphabetically\n",
    "combined = ser1 + ser2\n",
    "combined.to_frame()"
   ]
  },
  {
   "attachments": {},
   "cell_type": "markdown",
   "metadata": {},
   "source": [
    "Data frames - Main feature of pandas"
   ]
  },
  {
   "cell_type": "code",
   "execution_count": 67,
   "metadata": {},
   "outputs": [],
   "source": [
    "# lock down the random seed to get the same results every time\n",
    "from numpy.random import randint\n",
    "np.random.seed(321)\n",
    "\n",
    "companies = ['Jolly Good Toys Ltd',\n",
    "            'Pristine Machines Inc.',\n",
    "            'Piggy Bank Corporation',\n",
    "            'Cars & Gears Foundation']\n",
    "\n",
    "sales = [\"Europe\", \"North_America\", \"South_America\", \"Asia\", \"Africa\", \"Other\"]\n",
    "\n",
    "# generate the \"random\" sales numbers with the locked seed\n",
    "numbers = randint(99999, size=(4, 6))\n",
    "\n",
    "df = pd.DataFrame(numbers, companies, sales)"
   ]
  },
  {
   "cell_type": "code",
   "execution_count": 68,
   "metadata": {},
   "outputs": [
    {
     "data": {
      "text/html": [
       "<div>\n",
       "<style scoped>\n",
       "    .dataframe tbody tr th:only-of-type {\n",
       "        vertical-align: middle;\n",
       "    }\n",
       "\n",
       "    .dataframe tbody tr th {\n",
       "        vertical-align: top;\n",
       "    }\n",
       "\n",
       "    .dataframe thead th {\n",
       "        text-align: right;\n",
       "    }\n",
       "</style>\n",
       "<table border=\"1\" class=\"dataframe\">\n",
       "  <thead>\n",
       "    <tr style=\"text-align: right;\">\n",
       "      <th></th>\n",
       "      <th>Europe</th>\n",
       "      <th>North_America</th>\n",
       "      <th>South_America</th>\n",
       "      <th>Asia</th>\n",
       "      <th>Africa</th>\n",
       "      <th>Other</th>\n",
       "    </tr>\n",
       "  </thead>\n",
       "  <tbody>\n",
       "    <tr>\n",
       "      <th>Jolly Good Toys Ltd</th>\n",
       "      <td>97268</td>\n",
       "      <td>6682</td>\n",
       "      <td>4220</td>\n",
       "      <td>43807</td>\n",
       "      <td>5929</td>\n",
       "      <td>91537</td>\n",
       "    </tr>\n",
       "    <tr>\n",
       "      <th>Pristine Machines Inc.</th>\n",
       "      <td>24744</td>\n",
       "      <td>69018</td>\n",
       "      <td>99288</td>\n",
       "      <td>14068</td>\n",
       "      <td>90469</td>\n",
       "      <td>94536</td>\n",
       "    </tr>\n",
       "    <tr>\n",
       "      <th>Piggy Bank Corporation</th>\n",
       "      <td>28243</td>\n",
       "      <td>44245</td>\n",
       "      <td>21633</td>\n",
       "      <td>78619</td>\n",
       "      <td>45594</td>\n",
       "      <td>37389</td>\n",
       "    </tr>\n",
       "    <tr>\n",
       "      <th>Cars &amp; Gears Foundation</th>\n",
       "      <td>57643</td>\n",
       "      <td>46518</td>\n",
       "      <td>71742</td>\n",
       "      <td>99722</td>\n",
       "      <td>48613</td>\n",
       "      <td>97335</td>\n",
       "    </tr>\n",
       "  </tbody>\n",
       "</table>\n",
       "</div>"
      ],
      "text/plain": [
       "                         Europe  North_America  South_America   Asia  Africa  \\\n",
       "Jolly Good Toys Ltd       97268           6682           4220  43807    5929   \n",
       "Pristine Machines Inc.    24744          69018          99288  14068   90469   \n",
       "Piggy Bank Corporation    28243          44245          21633  78619   45594   \n",
       "Cars & Gears Foundation   57643          46518          71742  99722   48613   \n",
       "\n",
       "                         Other  \n",
       "Jolly Good Toys Ltd      91537  \n",
       "Pristine Machines Inc.   94536  \n",
       "Piggy Bank Corporation   37389  \n",
       "Cars & Gears Foundation  97335  "
      ]
     },
     "execution_count": 68,
     "metadata": {},
     "output_type": "execute_result"
    }
   ],
   "source": [
    "df"
   ]
  },
  {
   "cell_type": "code",
   "execution_count": 69,
   "metadata": {},
   "outputs": [
    {
     "data": {
      "text/html": [
       "<div>\n",
       "<style scoped>\n",
       "    .dataframe tbody tr th:only-of-type {\n",
       "        vertical-align: middle;\n",
       "    }\n",
       "\n",
       "    .dataframe tbody tr th {\n",
       "        vertical-align: top;\n",
       "    }\n",
       "\n",
       "    .dataframe thead th {\n",
       "        text-align: right;\n",
       "    }\n",
       "</style>\n",
       "<table border=\"1\" class=\"dataframe\">\n",
       "  <thead>\n",
       "    <tr style=\"text-align: right;\">\n",
       "      <th></th>\n",
       "      <th>Europe</th>\n",
       "    </tr>\n",
       "  </thead>\n",
       "  <tbody>\n",
       "    <tr>\n",
       "      <th>Jolly Good Toys Ltd</th>\n",
       "      <td>97268</td>\n",
       "    </tr>\n",
       "    <tr>\n",
       "      <th>Pristine Machines Inc.</th>\n",
       "      <td>24744</td>\n",
       "    </tr>\n",
       "    <tr>\n",
       "      <th>Piggy Bank Corporation</th>\n",
       "      <td>28243</td>\n",
       "    </tr>\n",
       "    <tr>\n",
       "      <th>Cars &amp; Gears Foundation</th>\n",
       "      <td>57643</td>\n",
       "    </tr>\n",
       "  </tbody>\n",
       "</table>\n",
       "</div>"
      ],
      "text/plain": [
       "                         Europe\n",
       "Jolly Good Toys Ltd       97268\n",
       "Pristine Machines Inc.    24744\n",
       "Piggy Bank Corporation    28243\n",
       "Cars & Gears Foundation   57643"
      ]
     },
     "execution_count": 69,
     "metadata": {},
     "output_type": "execute_result"
    }
   ],
   "source": [
    "col_df = df[\"Europe\"]\n",
    "col_df.to_frame()"
   ]
  },
  {
   "cell_type": "code",
   "execution_count": 70,
   "metadata": {},
   "outputs": [
    {
     "data": {
      "text/html": [
       "<div>\n",
       "<style scoped>\n",
       "    .dataframe tbody tr th:only-of-type {\n",
       "        vertical-align: middle;\n",
       "    }\n",
       "\n",
       "    .dataframe tbody tr th {\n",
       "        vertical-align: top;\n",
       "    }\n",
       "\n",
       "    .dataframe thead th {\n",
       "        text-align: right;\n",
       "    }\n",
       "</style>\n",
       "<table border=\"1\" class=\"dataframe\">\n",
       "  <thead>\n",
       "    <tr style=\"text-align: right;\">\n",
       "      <th></th>\n",
       "      <th>Europe</th>\n",
       "      <th>North_America</th>\n",
       "      <th>South_America</th>\n",
       "      <th>Asia</th>\n",
       "      <th>Africa</th>\n",
       "      <th>Other</th>\n",
       "      <th>Both_Americas</th>\n",
       "    </tr>\n",
       "  </thead>\n",
       "  <tbody>\n",
       "    <tr>\n",
       "      <th>Jolly Good Toys Ltd</th>\n",
       "      <td>97268</td>\n",
       "      <td>6682</td>\n",
       "      <td>4220</td>\n",
       "      <td>43807</td>\n",
       "      <td>5929</td>\n",
       "      <td>91537</td>\n",
       "      <td>10902</td>\n",
       "    </tr>\n",
       "    <tr>\n",
       "      <th>Pristine Machines Inc.</th>\n",
       "      <td>24744</td>\n",
       "      <td>69018</td>\n",
       "      <td>99288</td>\n",
       "      <td>14068</td>\n",
       "      <td>90469</td>\n",
       "      <td>94536</td>\n",
       "      <td>168306</td>\n",
       "    </tr>\n",
       "    <tr>\n",
       "      <th>Piggy Bank Corporation</th>\n",
       "      <td>28243</td>\n",
       "      <td>44245</td>\n",
       "      <td>21633</td>\n",
       "      <td>78619</td>\n",
       "      <td>45594</td>\n",
       "      <td>37389</td>\n",
       "      <td>65878</td>\n",
       "    </tr>\n",
       "    <tr>\n",
       "      <th>Cars &amp; Gears Foundation</th>\n",
       "      <td>57643</td>\n",
       "      <td>46518</td>\n",
       "      <td>71742</td>\n",
       "      <td>99722</td>\n",
       "      <td>48613</td>\n",
       "      <td>97335</td>\n",
       "      <td>118260</td>\n",
       "    </tr>\n",
       "  </tbody>\n",
       "</table>\n",
       "</div>"
      ],
      "text/plain": [
       "                         Europe  North_America  South_America   Asia  Africa  \\\n",
       "Jolly Good Toys Ltd       97268           6682           4220  43807    5929   \n",
       "Pristine Machines Inc.    24744          69018          99288  14068   90469   \n",
       "Piggy Bank Corporation    28243          44245          21633  78619   45594   \n",
       "Cars & Gears Foundation   57643          46518          71742  99722   48613   \n",
       "\n",
       "                         Other  Both_Americas  \n",
       "Jolly Good Toys Ltd      91537          10902  \n",
       "Pristine Machines Inc.   94536         168306  \n",
       "Piggy Bank Corporation   37389          65878  \n",
       "Cars & Gears Foundation  97335         118260  "
      ]
     },
     "execution_count": 70,
     "metadata": {},
     "output_type": "execute_result"
    }
   ],
   "source": [
    "df[\"Both_Americas\"] = df[\"North_America\"] + df[\"South_America\"]\n",
    "df"
   ]
  },
  {
   "cell_type": "code",
   "execution_count": 71,
   "metadata": {},
   "outputs": [],
   "source": [
    "df = df.drop('South_America', axis=1)"
   ]
  },
  {
   "cell_type": "code",
   "execution_count": 72,
   "metadata": {},
   "outputs": [],
   "source": [
    "df = df.drop('North_America', axis=1)"
   ]
  },
  {
   "cell_type": "code",
   "execution_count": 73,
   "metadata": {},
   "outputs": [
    {
     "data": {
      "text/html": [
       "<div>\n",
       "<style scoped>\n",
       "    .dataframe tbody tr th:only-of-type {\n",
       "        vertical-align: middle;\n",
       "    }\n",
       "\n",
       "    .dataframe tbody tr th {\n",
       "        vertical-align: top;\n",
       "    }\n",
       "\n",
       "    .dataframe thead th {\n",
       "        text-align: right;\n",
       "    }\n",
       "</style>\n",
       "<table border=\"1\" class=\"dataframe\">\n",
       "  <thead>\n",
       "    <tr style=\"text-align: right;\">\n",
       "      <th></th>\n",
       "      <th>Europe</th>\n",
       "      <th>Asia</th>\n",
       "      <th>Africa</th>\n",
       "      <th>Other</th>\n",
       "      <th>Both_Americas</th>\n",
       "    </tr>\n",
       "  </thead>\n",
       "  <tbody>\n",
       "    <tr>\n",
       "      <th>Jolly Good Toys Ltd</th>\n",
       "      <td>97268</td>\n",
       "      <td>43807</td>\n",
       "      <td>5929</td>\n",
       "      <td>91537</td>\n",
       "      <td>10902</td>\n",
       "    </tr>\n",
       "    <tr>\n",
       "      <th>Pristine Machines Inc.</th>\n",
       "      <td>24744</td>\n",
       "      <td>14068</td>\n",
       "      <td>90469</td>\n",
       "      <td>94536</td>\n",
       "      <td>168306</td>\n",
       "    </tr>\n",
       "    <tr>\n",
       "      <th>Piggy Bank Corporation</th>\n",
       "      <td>28243</td>\n",
       "      <td>78619</td>\n",
       "      <td>45594</td>\n",
       "      <td>37389</td>\n",
       "      <td>65878</td>\n",
       "    </tr>\n",
       "    <tr>\n",
       "      <th>Cars &amp; Gears Foundation</th>\n",
       "      <td>57643</td>\n",
       "      <td>99722</td>\n",
       "      <td>48613</td>\n",
       "      <td>97335</td>\n",
       "      <td>118260</td>\n",
       "    </tr>\n",
       "  </tbody>\n",
       "</table>\n",
       "</div>"
      ],
      "text/plain": [
       "                         Europe   Asia  Africa  Other  Both_Americas\n",
       "Jolly Good Toys Ltd       97268  43807    5929  91537          10902\n",
       "Pristine Machines Inc.    24744  14068   90469  94536         168306\n",
       "Piggy Bank Corporation    28243  78619   45594  37389          65878\n",
       "Cars & Gears Foundation   57643  99722   48613  97335         118260"
      ]
     },
     "execution_count": 73,
     "metadata": {},
     "output_type": "execute_result"
    }
   ],
   "source": [
    "df"
   ]
  },
  {
   "cell_type": "code",
   "execution_count": 74,
   "metadata": {},
   "outputs": [],
   "source": [
    "df = df.drop('Piggy Bank Corporation', axis=0)"
   ]
  },
  {
   "cell_type": "code",
   "execution_count": 75,
   "metadata": {},
   "outputs": [
    {
     "data": {
      "text/html": [
       "<div>\n",
       "<style scoped>\n",
       "    .dataframe tbody tr th:only-of-type {\n",
       "        vertical-align: middle;\n",
       "    }\n",
       "\n",
       "    .dataframe tbody tr th {\n",
       "        vertical-align: top;\n",
       "    }\n",
       "\n",
       "    .dataframe thead th {\n",
       "        text-align: right;\n",
       "    }\n",
       "</style>\n",
       "<table border=\"1\" class=\"dataframe\">\n",
       "  <thead>\n",
       "    <tr style=\"text-align: right;\">\n",
       "      <th></th>\n",
       "      <th>Europe</th>\n",
       "      <th>Asia</th>\n",
       "      <th>Africa</th>\n",
       "      <th>Other</th>\n",
       "      <th>Both_Americas</th>\n",
       "    </tr>\n",
       "  </thead>\n",
       "  <tbody>\n",
       "    <tr>\n",
       "      <th>Jolly Good Toys Ltd</th>\n",
       "      <td>97268</td>\n",
       "      <td>43807</td>\n",
       "      <td>5929</td>\n",
       "      <td>91537</td>\n",
       "      <td>10902</td>\n",
       "    </tr>\n",
       "    <tr>\n",
       "      <th>Pristine Machines Inc.</th>\n",
       "      <td>24744</td>\n",
       "      <td>14068</td>\n",
       "      <td>90469</td>\n",
       "      <td>94536</td>\n",
       "      <td>168306</td>\n",
       "    </tr>\n",
       "    <tr>\n",
       "      <th>Cars &amp; Gears Foundation</th>\n",
       "      <td>57643</td>\n",
       "      <td>99722</td>\n",
       "      <td>48613</td>\n",
       "      <td>97335</td>\n",
       "      <td>118260</td>\n",
       "    </tr>\n",
       "  </tbody>\n",
       "</table>\n",
       "</div>"
      ],
      "text/plain": [
       "                         Europe   Asia  Africa  Other  Both_Americas\n",
       "Jolly Good Toys Ltd       97268  43807    5929  91537          10902\n",
       "Pristine Machines Inc.    24744  14068   90469  94536         168306\n",
       "Cars & Gears Foundation   57643  99722   48613  97335         118260"
      ]
     },
     "execution_count": 75,
     "metadata": {},
     "output_type": "execute_result"
    }
   ],
   "source": [
    "df"
   ]
  },
  {
   "cell_type": "code",
   "execution_count": 76,
   "metadata": {},
   "outputs": [
    {
     "data": {
      "text/html": [
       "<div>\n",
       "<style scoped>\n",
       "    .dataframe tbody tr th:only-of-type {\n",
       "        vertical-align: middle;\n",
       "    }\n",
       "\n",
       "    .dataframe tbody tr th {\n",
       "        vertical-align: top;\n",
       "    }\n",
       "\n",
       "    .dataframe thead th {\n",
       "        text-align: right;\n",
       "    }\n",
       "</style>\n",
       "<table border=\"1\" class=\"dataframe\">\n",
       "  <thead>\n",
       "    <tr style=\"text-align: right;\">\n",
       "      <th></th>\n",
       "      <th>Europe</th>\n",
       "      <th>Asia</th>\n",
       "      <th>Africa</th>\n",
       "      <th>Other</th>\n",
       "      <th>Both_Americas</th>\n",
       "    </tr>\n",
       "  </thead>\n",
       "  <tbody>\n",
       "    <tr>\n",
       "      <th>Pristine Machines Inc.</th>\n",
       "      <td>24744</td>\n",
       "      <td>14068</td>\n",
       "      <td>90469</td>\n",
       "      <td>94536</td>\n",
       "      <td>168306</td>\n",
       "    </tr>\n",
       "  </tbody>\n",
       "</table>\n",
       "</div>"
      ],
      "text/plain": [
       "                        Europe   Asia  Africa  Other  Both_Americas\n",
       "Pristine Machines Inc.   24744  14068   90469  94536         168306"
      ]
     },
     "execution_count": 76,
     "metadata": {},
     "output_type": "execute_result"
    }
   ],
   "source": [
    "row = df.loc['Pristine Machines Inc.']\n",
    "row.to_frame().transpose()"
   ]
  },
  {
   "cell_type": "code",
   "execution_count": 77,
   "metadata": {},
   "outputs": [
    {
     "data": {
      "text/html": [
       "<div>\n",
       "<style scoped>\n",
       "    .dataframe tbody tr th:only-of-type {\n",
       "        vertical-align: middle;\n",
       "    }\n",
       "\n",
       "    .dataframe tbody tr th {\n",
       "        vertical-align: top;\n",
       "    }\n",
       "\n",
       "    .dataframe thead th {\n",
       "        text-align: right;\n",
       "    }\n",
       "</style>\n",
       "<table border=\"1\" class=\"dataframe\">\n",
       "  <thead>\n",
       "    <tr style=\"text-align: right;\">\n",
       "      <th></th>\n",
       "      <th>Europe</th>\n",
       "      <th>Asia</th>\n",
       "      <th>Africa</th>\n",
       "      <th>Other</th>\n",
       "      <th>Both_Americas</th>\n",
       "    </tr>\n",
       "  </thead>\n",
       "  <tbody>\n",
       "    <tr>\n",
       "      <th>Cars &amp; Gears Foundation</th>\n",
       "      <td>57643</td>\n",
       "      <td>99722</td>\n",
       "      <td>48613</td>\n",
       "      <td>97335</td>\n",
       "      <td>118260</td>\n",
       "    </tr>\n",
       "  </tbody>\n",
       "</table>\n",
       "</div>"
      ],
      "text/plain": [
       "                         Europe   Asia  Africa  Other  Both_Americas\n",
       "Cars & Gears Foundation   57643  99722   48613  97335         118260"
      ]
     },
     "execution_count": 77,
     "metadata": {},
     "output_type": "execute_result"
    }
   ],
   "source": [
    "row = df.iloc[2]\n",
    "row.to_frame().transpose()"
   ]
  },
  {
   "attachments": {},
   "cell_type": "markdown",
   "metadata": {},
   "source": [
    "Filtering DataFrames"
   ]
  },
  {
   "cell_type": "code",
   "execution_count": 79,
   "metadata": {},
   "outputs": [
    {
     "data": {
      "text/html": [
       "<div>\n",
       "<style scoped>\n",
       "    .dataframe tbody tr th:only-of-type {\n",
       "        vertical-align: middle;\n",
       "    }\n",
       "\n",
       "    .dataframe tbody tr th {\n",
       "        vertical-align: top;\n",
       "    }\n",
       "\n",
       "    .dataframe thead th {\n",
       "        text-align: right;\n",
       "    }\n",
       "</style>\n",
       "<table border=\"1\" class=\"dataframe\">\n",
       "  <thead>\n",
       "    <tr style=\"text-align: right;\">\n",
       "      <th></th>\n",
       "      <th>Europe</th>\n",
       "      <th>Asia</th>\n",
       "      <th>Africa</th>\n",
       "      <th>Other</th>\n",
       "      <th>Both_Americas</th>\n",
       "    </tr>\n",
       "  </thead>\n",
       "  <tbody>\n",
       "    <tr>\n",
       "      <th>Jolly Good Toys Ltd</th>\n",
       "      <td>97268.0</td>\n",
       "      <td>43807.0</td>\n",
       "      <td>NaN</td>\n",
       "      <td>91537</td>\n",
       "      <td>NaN</td>\n",
       "    </tr>\n",
       "    <tr>\n",
       "      <th>Pristine Machines Inc.</th>\n",
       "      <td>NaN</td>\n",
       "      <td>NaN</td>\n",
       "      <td>90469.0</td>\n",
       "      <td>94536</td>\n",
       "      <td>168306.0</td>\n",
       "    </tr>\n",
       "    <tr>\n",
       "      <th>Cars &amp; Gears Foundation</th>\n",
       "      <td>57643.0</td>\n",
       "      <td>99722.0</td>\n",
       "      <td>48613.0</td>\n",
       "      <td>97335</td>\n",
       "      <td>118260.0</td>\n",
       "    </tr>\n",
       "  </tbody>\n",
       "</table>\n",
       "</div>"
      ],
      "text/plain": [
       "                          Europe     Asia   Africa  Other  Both_Americas\n",
       "Jolly Good Toys Ltd      97268.0  43807.0      NaN  91537            NaN\n",
       "Pristine Machines Inc.       NaN      NaN  90469.0  94536       168306.0\n",
       "Cars & Gears Foundation  57643.0  99722.0  48613.0  97335       118260.0"
      ]
     },
     "execution_count": 79,
     "metadata": {},
     "output_type": "execute_result"
    }
   ],
   "source": [
    "sub_values = df[df > 40000]\n",
    "sub_values"
   ]
  },
  {
   "cell_type": "code",
   "execution_count": null,
   "metadata": {},
   "outputs": [],
   "source": []
  }
 ],
 "metadata": {
  "kernelspec": {
   "display_name": "Python 3",
   "language": "python",
   "name": "python3"
  },
  "language_info": {
   "codemirror_mode": {
    "name": "ipython",
    "version": 3
   },
   "file_extension": ".py",
   "mimetype": "text/x-python",
   "name": "python",
   "nbconvert_exporter": "python",
   "pygments_lexer": "ipython3",
   "version": "3.9.13"
  },
  "orig_nbformat": 4,
  "vscode": {
   "interpreter": {
    "hash": "9aefce4403d59e3c39915ae5a970bc8b6d9e419128f0a31a8f7b642323f84f32"
   }
  }
 },
 "nbformat": 4,
 "nbformat_minor": 2
}
