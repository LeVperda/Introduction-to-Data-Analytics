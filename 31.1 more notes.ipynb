{
 "cells": [
  {
   "cell_type": "code",
   "execution_count": 2,
   "metadata": {},
   "outputs": [],
   "source": [
    "import numpy as np\n",
    "import pandas as pd\n",
    "from numpy.random import randint"
   ]
  },
  {
   "cell_type": "code",
   "execution_count": 5,
   "metadata": {},
   "outputs": [],
   "source": [
    "np.random.seed(321)\n",
    "\n",
    "companies = ['Jolly Good Toys Ltd',\n",
    "            'Pristine Machines Inc.',\n",
    "            'Piggy Bank Corporation',\n",
    "            'Cars & Gears Foundation']\n",
    "\n",
    "sales = [\"Europe\", \"North_America\", \"South_America\", \"Asia\", \"Africa\", \"Other\"]\n",
    "\n",
    "# generate the \"random\" sales numbers with the locked seed\n",
    "numbers = randint(99999, size=(4, 6))\n",
    "\n",
    "df = pd.DataFrame(numbers, companies, sales)"
   ]
  },
  {
   "cell_type": "code",
   "execution_count": 6,
   "metadata": {},
   "outputs": [
    {
     "data": {
      "text/html": [
       "<div>\n",
       "<style scoped>\n",
       "    .dataframe tbody tr th:only-of-type {\n",
       "        vertical-align: middle;\n",
       "    }\n",
       "\n",
       "    .dataframe tbody tr th {\n",
       "        vertical-align: top;\n",
       "    }\n",
       "\n",
       "    .dataframe thead th {\n",
       "        text-align: right;\n",
       "    }\n",
       "</style>\n",
       "<table border=\"1\" class=\"dataframe\">\n",
       "  <thead>\n",
       "    <tr style=\"text-align: right;\">\n",
       "      <th></th>\n",
       "      <th>Europe</th>\n",
       "      <th>North_America</th>\n",
       "      <th>South_America</th>\n",
       "      <th>Asia</th>\n",
       "      <th>Africa</th>\n",
       "      <th>Other</th>\n",
       "    </tr>\n",
       "  </thead>\n",
       "  <tbody>\n",
       "    <tr>\n",
       "      <th>Jolly Good Toys Ltd</th>\n",
       "      <td>97268</td>\n",
       "      <td>6682</td>\n",
       "      <td>4220</td>\n",
       "      <td>43807</td>\n",
       "      <td>5929</td>\n",
       "      <td>91537</td>\n",
       "    </tr>\n",
       "    <tr>\n",
       "      <th>Pristine Machines Inc.</th>\n",
       "      <td>24744</td>\n",
       "      <td>69018</td>\n",
       "      <td>99288</td>\n",
       "      <td>14068</td>\n",
       "      <td>90469</td>\n",
       "      <td>94536</td>\n",
       "    </tr>\n",
       "    <tr>\n",
       "      <th>Piggy Bank Corporation</th>\n",
       "      <td>28243</td>\n",
       "      <td>44245</td>\n",
       "      <td>21633</td>\n",
       "      <td>78619</td>\n",
       "      <td>45594</td>\n",
       "      <td>37389</td>\n",
       "    </tr>\n",
       "    <tr>\n",
       "      <th>Cars &amp; Gears Foundation</th>\n",
       "      <td>57643</td>\n",
       "      <td>46518</td>\n",
       "      <td>71742</td>\n",
       "      <td>99722</td>\n",
       "      <td>48613</td>\n",
       "      <td>97335</td>\n",
       "    </tr>\n",
       "  </tbody>\n",
       "</table>\n",
       "</div>"
      ],
      "text/plain": [
       "                         Europe  North_America  South_America   Asia  Africa  \\\n",
       "Jolly Good Toys Ltd       97268           6682           4220  43807    5929   \n",
       "Pristine Machines Inc.    24744          69018          99288  14068   90469   \n",
       "Piggy Bank Corporation    28243          44245          21633  78619   45594   \n",
       "Cars & Gears Foundation   57643          46518          71742  99722   48613   \n",
       "\n",
       "                         Other  \n",
       "Jolly Good Toys Ltd      91537  \n",
       "Pristine Machines Inc.   94536  \n",
       "Piggy Bank Corporation   37389  \n",
       "Cars & Gears Foundation  97335  "
      ]
     },
     "execution_count": 6,
     "metadata": {},
     "output_type": "execute_result"
    }
   ],
   "source": [
    "df"
   ]
  },
  {
   "cell_type": "code",
   "execution_count": 8,
   "metadata": {},
   "outputs": [],
   "source": [
    "def sales_category(row):\n",
    "    total_sales = row['Europe'] + row['North_America'] + row['South_America'] + row['Asia'] + row['Africa'] + row['Other']\n",
    "\n",
    "    if total_sales < 200000:\n",
    "        return \"Small\"\n",
    "    elif 200000 < total_sales < 300000:\n",
    "        return \"Medium\"\n",
    "    else:\n",
    "        return \"Large\""
   ]
  },
  {
   "cell_type": "code",
   "execution_count": 9,
   "metadata": {},
   "outputs": [],
   "source": [
    "df['Company_Size'] = df.apply(sales_category, axis=1)"
   ]
  },
  {
   "cell_type": "code",
   "execution_count": 10,
   "metadata": {},
   "outputs": [
    {
     "data": {
      "text/html": [
       "<div>\n",
       "<style scoped>\n",
       "    .dataframe tbody tr th:only-of-type {\n",
       "        vertical-align: middle;\n",
       "    }\n",
       "\n",
       "    .dataframe tbody tr th {\n",
       "        vertical-align: top;\n",
       "    }\n",
       "\n",
       "    .dataframe thead th {\n",
       "        text-align: right;\n",
       "    }\n",
       "</style>\n",
       "<table border=\"1\" class=\"dataframe\">\n",
       "  <thead>\n",
       "    <tr style=\"text-align: right;\">\n",
       "      <th></th>\n",
       "      <th>Europe</th>\n",
       "      <th>North_America</th>\n",
       "      <th>South_America</th>\n",
       "      <th>Asia</th>\n",
       "      <th>Africa</th>\n",
       "      <th>Other</th>\n",
       "      <th>Company_Size</th>\n",
       "    </tr>\n",
       "  </thead>\n",
       "  <tbody>\n",
       "    <tr>\n",
       "      <th>Jolly Good Toys Ltd</th>\n",
       "      <td>97268</td>\n",
       "      <td>6682</td>\n",
       "      <td>4220</td>\n",
       "      <td>43807</td>\n",
       "      <td>5929</td>\n",
       "      <td>91537</td>\n",
       "      <td>Large</td>\n",
       "    </tr>\n",
       "    <tr>\n",
       "      <th>Pristine Machines Inc.</th>\n",
       "      <td>24744</td>\n",
       "      <td>69018</td>\n",
       "      <td>99288</td>\n",
       "      <td>14068</td>\n",
       "      <td>90469</td>\n",
       "      <td>94536</td>\n",
       "      <td>Large</td>\n",
       "    </tr>\n",
       "    <tr>\n",
       "      <th>Piggy Bank Corporation</th>\n",
       "      <td>28243</td>\n",
       "      <td>44245</td>\n",
       "      <td>21633</td>\n",
       "      <td>78619</td>\n",
       "      <td>45594</td>\n",
       "      <td>37389</td>\n",
       "      <td>Large</td>\n",
       "    </tr>\n",
       "    <tr>\n",
       "      <th>Cars &amp; Gears Foundation</th>\n",
       "      <td>57643</td>\n",
       "      <td>46518</td>\n",
       "      <td>71742</td>\n",
       "      <td>99722</td>\n",
       "      <td>48613</td>\n",
       "      <td>97335</td>\n",
       "      <td>Large</td>\n",
       "    </tr>\n",
       "  </tbody>\n",
       "</table>\n",
       "</div>"
      ],
      "text/plain": [
       "                         Europe  North_America  South_America   Asia  Africa  \\\n",
       "Jolly Good Toys Ltd       97268           6682           4220  43807    5929   \n",
       "Pristine Machines Inc.    24744          69018          99288  14068   90469   \n",
       "Piggy Bank Corporation    28243          44245          21633  78619   45594   \n",
       "Cars & Gears Foundation   57643          46518          71742  99722   48613   \n",
       "\n",
       "                         Other Company_Size  \n",
       "Jolly Good Toys Ltd      91537        Large  \n",
       "Pristine Machines Inc.   94536        Large  \n",
       "Piggy Bank Corporation   37389        Large  \n",
       "Cars & Gears Foundation  97335        Large  "
      ]
     },
     "execution_count": 10,
     "metadata": {},
     "output_type": "execute_result"
    }
   ],
   "source": [
    "df"
   ]
  }
 ],
 "metadata": {
  "kernelspec": {
   "display_name": "Python 3",
   "language": "python",
   "name": "python3"
  },
  "language_info": {
   "codemirror_mode": {
    "name": "ipython",
    "version": 3
   },
   "file_extension": ".py",
   "mimetype": "text/x-python",
   "name": "python",
   "nbconvert_exporter": "python",
   "pygments_lexer": "ipython3",
   "version": "3.9.13 (tags/v3.9.13:6de2ca5, May 17 2022, 16:36:42) [MSC v.1929 64 bit (AMD64)]"
  },
  "orig_nbformat": 4,
  "vscode": {
   "interpreter": {
    "hash": "9aefce4403d59e3c39915ae5a970bc8b6d9e419128f0a31a8f7b642323f84f32"
   }
  }
 },
 "nbformat": 4,
 "nbformat_minor": 2
}
